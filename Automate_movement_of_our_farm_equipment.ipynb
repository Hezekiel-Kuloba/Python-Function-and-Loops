{
  "nbformat": 4,
  "nbformat_minor": 0,
  "metadata": {
    "colab": {
      "provenance": []
    },
    "kernelspec": {
      "name": "python3",
      "display_name": "Python 3"
    },
    "language_info": {
      "name": "python"
    }
  },
  "cells": [
    {
      "cell_type": "markdown",
      "source": [
        "## Plough the whole field\n",
        "\n",
        "The function takes the field as input and returns a list of coordinates in tuple format. The coordinates represent the series of movements the tractor makes"
      ],
      "metadata": {
        "id": "WOFoZGEHuGUK"
      }
    },
    {
      "cell_type": "code",
      "source": [
        "def tractor_movement_standard(field):\n",
        "    plough_movements = []\n",
        "    for col in range(len(field)):\n",
        "        for row in range(len(field[col])):\n",
        "            plough_movements.append((col, row))\n",
        "\n",
        "    return plough_movements"
      ],
      "metadata": {
        "id": "dNd0hGKPuRDD"
      },
      "execution_count": 3,
      "outputs": []
    },
    {
      "cell_type": "code",
      "source": [
        "\n",
        "\n",
        "field_standard = [\n",
        "    ['soil3', 'soil3', 'soil1', 'soil2', 'soil2'],\n",
        "    ['soil2', 'soil3', 'soil2', 'soil1', 'soil3'],\n",
        "    ['soil2', 'soil3', 'soil1', 'soil3', 'soil3'],\n",
        "    ['soil3', 'soil2', 'soil3', 'soil3', 'soil2'],\n",
        "    ['soil3', 'soil2', 'soil1', 'soil3', 'soil2'],\n",
        "    ['soil2', 'soil3', 'soil3', 'soil1', 'soil3'],\n",
        "    ['soil3', 'soil1', 'soil3', 'soil2', 'soil2'],\n",
        "    ['soil2', 'soil1', 'soil2', 'soil2', 'soil1'],\n",
        "    ['soil1', 'soil1', 'soil3', 'soil2', 'soil3'],\n",
        "    ['soil3', 'soil3', 'soil3', 'soil1', 'soil1']\n",
        "]\n",
        "\n",
        "tractor_movement_standard(field_standard)"
      ],
      "metadata": {
        "colab": {
          "base_uri": "https://localhost:8080/"
        },
        "id": "T_gu64j5uaOU",
        "outputId": "f08a22d6-dbdb-4fa2-c666-6eda50362ada"
      },
      "execution_count": 4,
      "outputs": [
        {
          "output_type": "execute_result",
          "data": {
            "text/plain": [
              "[(0, 0),\n",
              " (0, 1),\n",
              " (0, 2),\n",
              " (0, 3),\n",
              " (0, 4),\n",
              " (1, 0),\n",
              " (1, 1),\n",
              " (1, 2),\n",
              " (1, 3),\n",
              " (1, 4),\n",
              " (2, 0),\n",
              " (2, 1),\n",
              " (2, 2),\n",
              " (2, 3),\n",
              " (2, 4),\n",
              " (3, 0),\n",
              " (3, 1),\n",
              " (3, 2),\n",
              " (3, 3),\n",
              " (3, 4),\n",
              " (4, 0),\n",
              " (4, 1),\n",
              " (4, 2),\n",
              " (4, 3),\n",
              " (4, 4),\n",
              " (5, 0),\n",
              " (5, 1),\n",
              " (5, 2),\n",
              " (5, 3),\n",
              " (5, 4),\n",
              " (6, 0),\n",
              " (6, 1),\n",
              " (6, 2),\n",
              " (6, 3),\n",
              " (6, 4),\n",
              " (7, 0),\n",
              " (7, 1),\n",
              " (7, 2),\n",
              " (7, 3),\n",
              " (7, 4),\n",
              " (8, 0),\n",
              " (8, 1),\n",
              " (8, 2),\n",
              " (8, 3),\n",
              " (8, 4),\n",
              " (9, 0),\n",
              " (9, 1),\n",
              " (9, 2),\n",
              " (9, 3),\n",
              " (9, 4)]"
            ]
          },
          "metadata": {},
          "execution_count": 4
        }
      ]
    },
    {
      "cell_type": "code",
      "source": [
        "field_wide = [\n",
        "    ['soil3', 'soil3', 'soil1', 'soil2', 'soil2', 'soil3', 'soil3', 'soil1', 'soil2', 'soil2', 'soil3', 'soil3', 'soil1', 'soil2', 'soil2'],\n",
        "    ['soil3', 'soil3', 'soil1', 'soil2','soil2', 'soil3', 'soil3']\n",
        "]\n",
        "\n",
        "tractor_movement_standard(field_wide)"
      ],
      "metadata": {
        "colab": {
          "base_uri": "https://localhost:8080/"
        },
        "id": "yWYDmjCbuhhu",
        "outputId": "27f795e8-0e5a-4c6e-c892-966f38b9e67c"
      },
      "execution_count": 5,
      "outputs": [
        {
          "output_type": "execute_result",
          "data": {
            "text/plain": [
              "[(0, 0),\n",
              " (0, 1),\n",
              " (0, 2),\n",
              " (0, 3),\n",
              " (0, 4),\n",
              " (0, 5),\n",
              " (0, 6),\n",
              " (0, 7),\n",
              " (0, 8),\n",
              " (0, 9),\n",
              " (0, 10),\n",
              " (0, 11),\n",
              " (0, 12),\n",
              " (0, 13),\n",
              " (0, 14),\n",
              " (1, 0),\n",
              " (1, 1),\n",
              " (1, 2),\n",
              " (1, 3),\n",
              " (1, 4),\n",
              " (1, 5),\n",
              " (1, 6)]"
            ]
          },
          "metadata": {},
          "execution_count": 5
        }
      ]
    },
    {
      "cell_type": "code",
      "source": [
        "# Function to turn the tractor around\n",
        "def reverse_list(input_list):\n",
        "    return input_list[::-1]"
      ],
      "metadata": {
        "id": "skNfkNt6un4i"
      },
      "execution_count": 6,
      "outputs": []
    },
    {
      "cell_type": "code",
      "source": [
        "current_row = [0, 1, 2, 3, 4]\n",
        "\n",
        "reverse_list(current_row)"
      ],
      "metadata": {
        "colab": {
          "base_uri": "https://localhost:8080/"
        },
        "id": "eaCRZ_7vu557",
        "outputId": "3f698a49-a3e8-4a93-9ffc-01e40c7bf3ca"
      },
      "execution_count": 7,
      "outputs": [
        {
          "output_type": "execute_result",
          "data": {
            "text/plain": [
              "[4, 3, 2, 1, 0]"
            ]
          },
          "metadata": {},
          "execution_count": 7
        }
      ]
    },
    {
      "cell_type": "code",
      "source": [
        "current_row = [1, 3, 2, 0, 4]\n",
        "\n",
        "reverse_list(current_row)"
      ],
      "metadata": {
        "colab": {
          "base_uri": "https://localhost:8080/"
        },
        "id": "V3Oc01o3vClp",
        "outputId": "73de778b-ac05-49f5-fad0-18dc23de6cb2"
      },
      "execution_count": 8,
      "outputs": [
        {
          "output_type": "execute_result",
          "data": {
            "text/plain": [
              "[4, 0, 2, 3, 1]"
            ]
          },
          "metadata": {},
          "execution_count": 8
        }
      ]
    },
    {
      "cell_type": "code",
      "source": [
        "# Function to plough a field realistically\n",
        "def tractor_movement_realistic(field):\n",
        "    plough_movements = []\n",
        "    for col in range(len(field)):\n",
        "        # Get the current row\n",
        "        current_row = range(len(field[col]))\n",
        "\n",
        "        # Reverse the row if the column number is odd\n",
        "        if col % 2 != 0:\n",
        "            current_row = reverse_list(current_row)\n",
        "\n",
        "        # Append the coordinates to the plough movements\n",
        "        for row in current_row:\n",
        "            plough_movements.append((col, row))\n",
        "\n",
        "    return plough_movements"
      ],
      "metadata": {
        "id": "PMTEKKa6vK4-"
      },
      "execution_count": 10,
      "outputs": []
    },
    {
      "cell_type": "code",
      "source": [
        "field_standard = [\n",
        "    ['soil3', 'soil3', 'soil1', 'soil2', 'soil2'],\n",
        "    ['soil2', 'soil3', 'soil2', 'soil1', 'soil3'],\n",
        "    ['soil2', 'soil3', 'soil1', 'soil3', 'soil3'],\n",
        "    ['soil3', 'soil2', 'soil3', 'soil3', 'soil2'],\n",
        "    ['soil3', 'soil2', 'soil1', 'soil3', 'soil2'],\n",
        "    ['soil2', 'soil3', 'soil3', 'soil1', 'soil3'],\n",
        "    ['soil3', 'soil1', 'soil3', 'soil2', 'soil2'],\n",
        "    ['soil2', 'soil1', 'soil2', 'soil2', 'soil1'],\n",
        "    ['soil1', 'soil1', 'soil3', 'soil2', 'soil3'],\n",
        "    ['soil3', 'soil3', 'soil3', 'soil1', 'soil1']\n",
        "]\n",
        "\n",
        "tractor_movement_realistic(field_standard)"
      ],
      "metadata": {
        "colab": {
          "base_uri": "https://localhost:8080/"
        },
        "id": "JRj4HLgIvXjw",
        "outputId": "8586790f-c3d6-465e-bead-51d772abab21"
      },
      "execution_count": 11,
      "outputs": [
        {
          "output_type": "execute_result",
          "data": {
            "text/plain": [
              "[(0, 0),\n",
              " (0, 1),\n",
              " (0, 2),\n",
              " (0, 3),\n",
              " (0, 4),\n",
              " (1, 4),\n",
              " (1, 3),\n",
              " (1, 2),\n",
              " (1, 1),\n",
              " (1, 0),\n",
              " (2, 0),\n",
              " (2, 1),\n",
              " (2, 2),\n",
              " (2, 3),\n",
              " (2, 4),\n",
              " (3, 4),\n",
              " (3, 3),\n",
              " (3, 2),\n",
              " (3, 1),\n",
              " (3, 0),\n",
              " (4, 0),\n",
              " (4, 1),\n",
              " (4, 2),\n",
              " (4, 3),\n",
              " (4, 4),\n",
              " (5, 4),\n",
              " (5, 3),\n",
              " (5, 2),\n",
              " (5, 1),\n",
              " (5, 0),\n",
              " (6, 0),\n",
              " (6, 1),\n",
              " (6, 2),\n",
              " (6, 3),\n",
              " (6, 4),\n",
              " (7, 4),\n",
              " (7, 3),\n",
              " (7, 2),\n",
              " (7, 1),\n",
              " (7, 0),\n",
              " (8, 0),\n",
              " (8, 1),\n",
              " (8, 2),\n",
              " (8, 3),\n",
              " (8, 4),\n",
              " (9, 4),\n",
              " (9, 3),\n",
              " (9, 2),\n",
              " (9, 1),\n",
              " (9, 0)]"
            ]
          },
          "metadata": {},
          "execution_count": 11
        }
      ]
    },
    {
      "cell_type": "markdown",
      "source": [
        "**Note the tractor goes to the next row but stays in col 4: ...(0, 4), (1, 4)...**"
      ],
      "metadata": {
        "id": "a49YVNGWv2OW"
      }
    },
    {
      "cell_type": "code",
      "source": [
        "field_5x5 = [\n",
        " ['soil', 'soil', 'soil', 'soil', 'soil'],\n",
        " ['soil', 'soil', 'soil', 'soil', 'soil'],\n",
        " ['soil', 'soil', 'soil', 'soil', 'soil'],\n",
        " ['soil', 'soil', 'soil', 'soil', 'soil'],\n",
        " ['soil', 'soil', 'soil', 'soil', 'soil'],\n",
        "]\n",
        "tractor_movement_realistic(field_5x5)"
      ],
      "metadata": {
        "colab": {
          "base_uri": "https://localhost:8080/"
        },
        "id": "XL5b36SfvtOu",
        "outputId": "3f99b0bb-80bc-49c9-9b7d-17c6e6c8f4a8"
      },
      "execution_count": 12,
      "outputs": [
        {
          "output_type": "execute_result",
          "data": {
            "text/plain": [
              "[(0, 0),\n",
              " (0, 1),\n",
              " (0, 2),\n",
              " (0, 3),\n",
              " (0, 4),\n",
              " (1, 4),\n",
              " (1, 3),\n",
              " (1, 2),\n",
              " (1, 1),\n",
              " (1, 0),\n",
              " (2, 0),\n",
              " (2, 1),\n",
              " (2, 2),\n",
              " (2, 3),\n",
              " (2, 4),\n",
              " (3, 4),\n",
              " (3, 3),\n",
              " (3, 2),\n",
              " (3, 1),\n",
              " (3, 0),\n",
              " (4, 0),\n",
              " (4, 1),\n",
              " (4, 2),\n",
              " (4, 3),\n",
              " (4, 4)]"
            ]
          },
          "metadata": {},
          "execution_count": 12
        }
      ]
    }
  ]
}